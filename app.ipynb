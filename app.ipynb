{
 "cells": [
  {
   "cell_type": "code",
   "execution_count": 1,
   "metadata": {},
   "outputs": [
    {
     "ename": "ImportError",
     "evalue": "cannot import name 'load_env' from 'dotenv' (c:\\Users\\blazg\\Desktop\\audio-summary-app\\.venv\\Lib\\site-packages\\dotenv\\__init__.py)",
     "output_type": "error",
     "traceback": [
      "\u001b[1;31m---------------------------------------------------------------------------\u001b[0m",
      "\u001b[1;31mImportError\u001b[0m                               Traceback (most recent call last)",
      "Cell \u001b[1;32mIn[1], line 6\u001b[0m\n\u001b[0;32m      4\u001b[0m \u001b[38;5;28;01mimport\u001b[39;00m \u001b[38;5;21;01mfirebase_admin\u001b[39;00m\n\u001b[0;32m      5\u001b[0m \u001b[38;5;28;01mfrom\u001b[39;00m \u001b[38;5;21;01mfirebase_admin\u001b[39;00m \u001b[38;5;28;01mimport\u001b[39;00m credentials\n\u001b[1;32m----> 6\u001b[0m \u001b[38;5;28;01mfrom\u001b[39;00m \u001b[38;5;21;01mdotenv\u001b[39;00m \u001b[38;5;28;01mimport\u001b[39;00m load_env\n\u001b[0;32m      8\u001b[0m load_env()\n\u001b[0;32m     10\u001b[0m cred \u001b[38;5;241m=\u001b[39m credentials\u001b[38;5;241m.\u001b[39mCertificate(\u001b[38;5;124m\"\u001b[39m\u001b[38;5;124m./langchain-testing-e55cd-firebase-adminsdk-vedpa-95f28a728d.json\u001b[39m\u001b[38;5;124m\"\u001b[39m)\n",
      "\u001b[1;31mImportError\u001b[0m: cannot import name 'load_env' from 'dotenv' (c:\\Users\\blazg\\Desktop\\audio-summary-app\\.venv\\Lib\\site-packages\\dotenv\\__init__.py)"
     ]
    }
   ],
   "source": [
    "from flask import Flask, request, jsonify\n",
    "from flask_cors import CORS\n",
    "import google.generativeai as genai\n",
    "import firebase_admin\n",
    "from firebase_admin import credentials\n",
    "from dotenv import load_env\n",
    "\n",
    "load_env()\n",
    "\n",
    "cred = credentials.Certificate(\"./secret.json\")\n",
    "firebase_admin.initialize_app(cred)"
   ]
  },
  {
   "cell_type": "code",
   "execution_count": null,
   "metadata": {},
   "outputs": [],
   "source": [
    "def _summarize(blob):\n",
    "    # Initialize a Gemini model appropriate for your use case.\n",
    "    model = genai.GenerativeModel('models/gemini-1.5-flash')\n",
    "\n",
    "    # Create the prompt.\n",
    "    prompt = \"Please summarize the audio.\"\n",
    "\n",
    "    # Load the samplesmall.mp3 file into a Python Blob object containing the audio\n",
    "    # file's bytes and then pass the prompt and the audio to Gemini.\n",
    "    response = model.generate_content([\n",
    "        prompt,\n",
    "        {\n",
    "            \"mime_type\": \"audio/mp3\",\n",
    "            \"data\": pathlib.Path('samplesmall.mp3').read_bytes()\n",
    "        }\n",
    "    ])\n",
    "\n",
    "    # Output Gemini's response to the prompt and the inline audio.\n",
    "    print(response.text)"
   ]
  },
  {
   "cell_type": "code",
   "execution_count": 4,
   "metadata": {},
   "outputs": [],
   "source": [
    "app = Flask(__name__)\n",
    "\n",
    "@app.route(\"/\")\n",
    "def hello_world():\n",
    "    return \"<p>Hello, World!</p>\""
   ]
  },
  {
   "cell_type": "code",
   "execution_count": 5,
   "metadata": {},
   "outputs": [],
   "source": [
    "@app.route('/upload-audio', methods=['POST'])\n",
    "def upload_audio():\n",
    "    # Check if audio file is present in the request\n",
    "    if 'audio' not in request.files:\n",
    "        return jsonify({'error': 'No audio file provided'}), 400\n",
    "\n",
    "    audio_file = request.files['audio']\n",
    "\n",
    "    # Check if file is a valid audio file (optional)\n",
    "    if audio_file.filename == '':\n",
    "        return jsonify({'error': 'No selected audio file'}), 400\n",
    "\n",
    "    # Save the audio file to a desired location (adjust as needed)\n",
    "    audio_file.save('uploads/' + audio_file.filename)\n",
    "\n",
    "    # Process the audio file (e.g., transcribe, analyze)\n",
    "    # ...\n",
    "\n",
    "    return jsonify({'message': 'Audio file uploaded successfully'})\n",
    "\n",
    "if __name__ == '__main__':\n",
    "    app.run(debug=True)"
   ]
  }
 ],
 "metadata": {
  "kernelspec": {
   "display_name": ".venv",
   "language": "python",
   "name": "python3"
  },
  "language_info": {
   "codemirror_mode": {
    "name": "ipython",
    "version": 3
   },
   "file_extension": ".py",
   "mimetype": "text/x-python",
   "name": "python",
   "nbconvert_exporter": "python",
   "pygments_lexer": "ipython3",
   "version": "3.11.0"
  }
 },
 "nbformat": 4,
 "nbformat_minor": 2
}
