{
 "cells": [
  {
   "cell_type": "code",
   "execution_count": 3,
   "metadata": {},
   "outputs": [
    {
     "data": {
      "text/plain": [
       "<firebase_admin.App at 0x2a3c3174b50>"
      ]
     },
     "execution_count": 3,
     "metadata": {},
     "output_type": "execute_result"
    }
   ],
   "source": [
    "from flask import Flask, request, jsonify\n",
    "import google.generativeai as genai\n",
    "import firebase_admin\n",
    "from firebase_admin import credentials\n",
    "\n",
    "model = genai.GenerativeModel(\"gemini-1.5-flash\")\n",
    "cred = credentials.Certificate(\"./langchain-testing-e55cd-firebase-adminsdk-vedpa-95f28a728d.json\")\n",
    "firebase_admin.initialize_app(cred)"
   ]
  },
  {
   "cell_type": "code",
   "execution_count": 4,
   "metadata": {},
   "outputs": [],
   "source": [
    "app = Flask(__name__)\n",
    "\n",
    "@app.route(\"/\")\n",
    "def hello_world():\n",
    "    return \"<p>Hello, World!</p>\""
   ]
  },
  {
   "cell_type": "code",
   "execution_count": 5,
   "metadata": {},
   "outputs": [],
   "source": [
    "@app.route('/upload-audio', methods=['POST'])\n",
    "def upload_audio():\n",
    "    # Check if audio file is present in the request\n",
    "    if 'audio' not in request.files:\n",
    "        return jsonify({'error': 'No audio file provided'}), 400\n",
    "\n",
    "    audio_file = request.files['audio']\n",
    "\n",
    "    # Check if file is a valid audio file (optional)\n",
    "    if audio_file.filename == '':\n",
    "        return jsonify({'error': 'No selected audio file'}), 400\n",
    "\n",
    "    # Save the audio file to a desired location (adjust as needed)\n",
    "    audio_file.save('uploads/' + audio_file.filename)\n",
    "\n",
    "    # Process the audio file (e.g., transcribe, analyze)\n",
    "    # ...\n",
    "\n",
    "    return jsonify({'message': 'Audio file uploaded successfully'})\n",
    "\n",
    "if __name__ == '__main__':\n",
    "    app.run(debug=True)"
   ]
  }
 ],
 "metadata": {
  "kernelspec": {
   "display_name": ".venv",
   "language": "python",
   "name": "python3"
  },
  "language_info": {
   "codemirror_mode": {
    "name": "ipython",
    "version": 3
   },
   "file_extension": ".py",
   "mimetype": "text/x-python",
   "name": "python",
   "nbconvert_exporter": "python",
   "pygments_lexer": "ipython3",
   "version": "3.11.0"
  }
 },
 "nbformat": 4,
 "nbformat_minor": 2
}
